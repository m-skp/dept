{
 "cells": [
  {
   "cell_type": "code",
   "execution_count": null,
   "metadata": {},
   "outputs": [],
   "source": [
    "from dept import *"
   ]
  },
  {
   "cell_type": "markdown",
   "metadata": {},
   "source": [
    "# AWS: boto3"
   ]
  },
  {
   "cell_type": "code",
   "execution_count": null,
   "metadata": {},
   "outputs": [],
   "source": [
    "import boto3\n",
    "\n",
    "# read config file\n",
    "aws_config = read_file('configs/aws.json')\n",
    "aws_session = boto3.Session(\n",
    "    aws_access_key_id=aws_config.get('aws_access_key_id'),\n",
    "    aws_secret_access_key=aws_config.get('aws_secret_access_key')\n",
    "    )"
   ]
  },
  {
   "cell_type": "markdown",
   "metadata": {},
   "source": [
    "## boto3: S3 client"
   ]
  },
  {
   "cell_type": "code",
   "execution_count": null,
   "metadata": {},
   "outputs": [],
   "source": [
    "# instantiate S3 client\n",
    "s3_client = aws_session.client('s3')"
   ]
  },
  {
   "cell_type": "code",
   "execution_count": null,
   "metadata": {},
   "outputs": [],
   "source": [
    "# create a new bucket\n",
    "s3_client.create_bucket(Bucket=aws_config.get('bucket_name'))"
   ]
  },
  {
   "cell_type": "code",
   "execution_count": null,
   "metadata": {},
   "outputs": [],
   "source": [
    "# list S3 buckets\n",
    "print_dict(s3_client.list_buckets())"
   ]
  },
  {
   "cell_type": "code",
   "execution_count": null,
   "metadata": {},
   "outputs": [],
   "source": [
    "# create a test file\n",
    "file_path = norm_path('sandbox/test_file.txt')\n",
    "content = 'this is a test file.'\n",
    "\n",
    "write_file(content=content, file_path=file_path)"
   ]
  },
  {
   "cell_type": "code",
   "execution_count": null,
   "metadata": {},
   "outputs": [],
   "source": [
    "# upload file\n",
    "file_key='test-upload-file'\n",
    "\n",
    "s3_client.upload_file(\n",
    "    Filename=file_path,\n",
    "    Bucket=aws_config.get('bucket_name'),\n",
    "    Key=file_key\n",
    "    )"
   ]
  },
  {
   "cell_type": "code",
   "execution_count": null,
   "metadata": {},
   "outputs": [],
   "source": [
    "# download file from S3\n",
    "destination_file_path = norm_path('sandbox/test_file_download.txt')\n",
    "\n",
    "s3_client.download_file(\n",
    "    Filename=destination_file_path,\n",
    "    Bucket=aws_config.get('bucket_name'),\n",
    "    Key=file_key\n",
    "    )"
   ]
  },
  {
   "cell_type": "code",
   "execution_count": null,
   "metadata": {},
   "outputs": [],
   "source": [
    "# delete S3 object\n",
    "s3_client.delete_object(\n",
    "    Bucket=aws_config.get('bucket_name'),\n",
    "    Key=file_key\n",
    "    )"
   ]
  },
  {
   "cell_type": "markdown",
   "metadata": {},
   "source": [
    "## boto3: S3 resource"
   ]
  },
  {
   "cell_type": "code",
   "execution_count": null,
   "metadata": {},
   "outputs": [],
   "source": [
    "# instantiate S3 resource connector\n",
    "s3 = aws_session.resource('s3')"
   ]
  },
  {
   "cell_type": "code",
   "execution_count": null,
   "metadata": {},
   "outputs": [],
   "source": [
    "# create a bucket via S3 resource\n",
    "s3.create_bucket(Bucket=aws_config.get('bucket_name'))"
   ]
  },
  {
   "cell_type": "code",
   "execution_count": null,
   "metadata": {},
   "outputs": [],
   "source": [
    "# interact with S3 bucket \n",
    "bucket = s3.Bucket(name=aws_config.get('bucket_name'))\n",
    "\n",
    "# upload file\n",
    "bucket.upload_file(\n",
    "    Filename=file_path,\n",
    "    Key=file_key\n",
    ")"
   ]
  },
  {
   "cell_type": "code",
   "execution_count": null,
   "metadata": {},
   "outputs": [],
   "source": [
    "# list all objects\n",
    "print(*bucket.objects.all())"
   ]
  },
  {
   "cell_type": "code",
   "execution_count": null,
   "metadata": {},
   "outputs": [],
   "source": [
    "# download file from a bucket\n",
    "bucket.download_file(\n",
    "    Filename=destination_file_path,\n",
    "    Key=file_key\n",
    ")"
   ]
  },
  {
   "cell_type": "code",
   "execution_count": null,
   "metadata": {},
   "outputs": [],
   "source": [
    "# filter bucket objects\n",
    "print(*bucket.objects.filter(Prefix='test'))"
   ]
  },
  {
   "cell_type": "markdown",
   "metadata": {},
   "source": [
    "## boto3: deleting S3 buckets"
   ]
  },
  {
   "cell_type": "code",
   "execution_count": 21,
   "metadata": {},
   "outputs": [
    {
     "data": {
      "text/plain": [
       "{'ResponseMetadata': {'RequestId': 'R2W3NXQCMF3HJ7CC',\n",
       "  'HostId': 'OHipU/RgXsy1C20D0mr66ZNo6ZtSMiHCx4YQqIruNy88GnrA1wqUUEZndtNdRK9kFbRPCke8H6E=',\n",
       "  'HTTPStatusCode': 204,\n",
       "  'HTTPHeaders': {'x-amz-id-2': 'OHipU/RgXsy1C20D0mr66ZNo6ZtSMiHCx4YQqIruNy88GnrA1wqUUEZndtNdRK9kFbRPCke8H6E=',\n",
       "   'x-amz-request-id': 'R2W3NXQCMF3HJ7CC',\n",
       "   'date': 'Thu, 28 Dec 2023 16:24:49 GMT',\n",
       "   'server': 'AmazonS3'},\n",
       "  'RetryAttempts': 0}}"
      ]
     },
     "execution_count": 21,
     "metadata": {},
     "output_type": "execute_result"
    }
   ],
   "source": [
    "# get S3 bucket \n",
    "bucket = s3.Bucket(name=aws_config.get('bucket_name'))\n",
    "\n",
    "# delete all S3 bucket objects -> only an empty bucket can be deleted\n",
    "bucket.objects.all().delete()\n",
    "\n",
    "# delete empty bucket\n",
    "bucket.delete()"
   ]
  },
  {
   "cell_type": "markdown",
   "metadata": {},
   "source": [
    "## boto3: S3 paginators"
   ]
  },
  {
   "cell_type": "markdown",
   "metadata": {},
   "source": [
    "- provides a mean to list objects in chunks (pages)"
   ]
  },
  {
   "cell_type": "code",
   "execution_count": null,
   "metadata": {},
   "outputs": [],
   "source": [
    "# get paginator -> S3 client is required!\n",
    "paginator = s3_client.get_paginator('list_objects_v2')\n",
    "results = paginator.paginate(\n",
    "    Bucket=aws_config.get('bucket_name')\n",
    ")"
   ]
  },
  {
   "cell_type": "code",
   "execution_count": null,
   "metadata": {},
   "outputs": [],
   "source": [
    "# iterate over results\n",
    "for id, item in enumerate(results.search('Contents')):\n",
    "    print(f\"index: {id}\")\n",
    "    print_dict(item)"
   ]
  },
  {
   "cell_type": "markdown",
   "metadata": {},
   "source": [
    "## boto3: waiters"
   ]
  },
  {
   "cell_type": "markdown",
   "metadata": {},
   "source": [
    "- regularly checks for a specific condition to be met"
   ]
  },
  {
   "cell_type": "code",
   "execution_count": null,
   "metadata": {},
   "outputs": [],
   "source": [
    "# define waiter parameters\n",
    "waiter = s3_client.get_waiter('bucket_exists')\n",
    "wait_config = {\n",
    "    'Delay': 10,             # check every 10 seconds \n",
    "    'MaxAttempts': 6         # exit after 6 unsuccessful attemps\n",
    "}\n",
    "\n",
    "# testing bucket name\n",
    "test_bucket_name = 'very-weird-bucket-to-check'"
   ]
  },
  {
   "cell_type": "code",
   "execution_count": null,
   "metadata": {},
   "outputs": [],
   "source": [
    "print(f'waiting for a bucket: {test_bucket_name}')\n",
    "waiter.wait(\n",
    "    Bucket=test_bucket_name,\n",
    "    WaiterConfig=wait_config\n",
    "    )"
   ]
  },
  {
   "cell_type": "markdown",
   "metadata": {},
   "source": [
    "## boto3: file sharing"
   ]
  },
  {
   "cell_type": "markdown",
   "metadata": {},
   "source": [
    "- using presigned URLs"
   ]
  },
  {
   "cell_type": "code",
   "execution_count": null,
   "metadata": {},
   "outputs": [],
   "source": [
    "url = s3_client.generate_presigned_url(\n",
    "    ClientMethod='get_object',\n",
    "    Params={\n",
    "        'Bucket': aws_config.get('bucket_name'), \n",
    "        'Key': file_key,\n",
    "        },\n",
    "    ExpiresIn=120                 # expires in 120 seconds\n",
    ")"
   ]
  }
 ],
 "metadata": {
  "kernelspec": {
   "display_name": "dept",
   "language": "python",
   "name": "python3"
  },
  "language_info": {
   "codemirror_mode": {
    "name": "ipython",
    "version": 3
   },
   "file_extension": ".py",
   "mimetype": "text/x-python",
   "name": "python",
   "nbconvert_exporter": "python",
   "pygments_lexer": "ipython3",
   "version": "3.10.13"
  }
 },
 "nbformat": 4,
 "nbformat_minor": 2
}
