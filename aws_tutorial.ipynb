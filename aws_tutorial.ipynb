{
 "cells": [
  {
   "cell_type": "code",
   "execution_count": null,
   "metadata": {},
   "outputs": [],
   "source": [
    "from dept import *\n",
    "from datetime import datetime, timedelta"
   ]
  },
  {
   "cell_type": "markdown",
   "metadata": {},
   "source": [
    "# AWS: boto3"
   ]
  },
  {
   "cell_type": "code",
   "execution_count": null,
   "metadata": {},
   "outputs": [],
   "source": [
    "import boto3\n",
    "\n",
    "# read config file\n",
    "aws_config = read_file('configs/aws.json')\n",
    "aws_session = boto3.Session(\n",
    "    aws_access_key_id=aws_config.get('aws_access_key_id'),\n",
    "    aws_secret_access_key=aws_config.get('aws_secret_access_key'),\n",
    "    region_name=aws_config.get('region_name')\n",
    "    )\n",
    "\n",
    "# bucket name used in the tutorial\n",
    "bucket_name = aws_config.get('bucket_name')"
   ]
  },
  {
   "cell_type": "markdown",
   "metadata": {},
   "source": [
    "- **CLIENT** - uses interaction with AWS services via functions \n",
    "- **RESOURCE** - uses interaction with AWS services via objects \n",
    "- **PAGINATORS** - provides a mean to list objects and attributes in chunks (pages)\n",
    "- **WAITERS** - provides a way to regularly check for a specific condition to be met"
   ]
  },
  {
   "cell_type": "markdown",
   "metadata": {},
   "source": [
    "- **S3** (simple storage service) -> storage\n",
    "- **EC2** (elastic compute cloud) -> VM\n",
    "- **DynamoDB** -> NoSQL database\n",
    "- **Lambda** -> severless computing service\n",
    "  - can directly execute python code\n",
    "  - does not require instance provisioning but more expensive"
   ]
  },
  {
   "cell_type": "markdown",
   "metadata": {},
   "source": [
    "## S3 client"
   ]
  },
  {
   "cell_type": "code",
   "execution_count": null,
   "metadata": {},
   "outputs": [],
   "source": [
    "# instantiate S3 client\n",
    "s3_client = aws_session.client('s3')"
   ]
  },
  {
   "cell_type": "code",
   "execution_count": null,
   "metadata": {},
   "outputs": [],
   "source": [
    "# create a new bucket\n",
    "s3_client.create_bucket(Bucket=bucket_name)"
   ]
  },
  {
   "cell_type": "code",
   "execution_count": null,
   "metadata": {},
   "outputs": [],
   "source": [
    "# list S3 buckets\n",
    "print_dict(s3_client.list_buckets())"
   ]
  },
  {
   "cell_type": "code",
   "execution_count": null,
   "metadata": {},
   "outputs": [],
   "source": [
    "# create a test file\n",
    "file_path = norm_path('sandbox/test_file.txt')\n",
    "content = 'this is a test file.'\n",
    "\n",
    "write_file(content=content, file_path=file_path)"
   ]
  },
  {
   "cell_type": "code",
   "execution_count": null,
   "metadata": {},
   "outputs": [],
   "source": [
    "# upload file\n",
    "file_key='test-upload-file'\n",
    "\n",
    "s3_client.upload_file(\n",
    "    Filename=file_path,\n",
    "    Bucket=bucket_name,\n",
    "    Key=file_key\n",
    "    )"
   ]
  },
  {
   "cell_type": "code",
   "execution_count": null,
   "metadata": {},
   "outputs": [],
   "source": [
    "# download file from S3\n",
    "destination_file_path = norm_path('sandbox/test_file_download.txt')\n",
    "\n",
    "s3_client.download_file(\n",
    "    Filename=destination_file_path,\n",
    "    Bucket=bucket_name,\n",
    "    Key=file_key\n",
    "    )"
   ]
  },
  {
   "cell_type": "code",
   "execution_count": null,
   "metadata": {},
   "outputs": [],
   "source": [
    "# delete S3 object\n",
    "s3_client.delete_object(\n",
    "    Bucket=bucket_name,\n",
    "    Key=file_key\n",
    "    )"
   ]
  },
  {
   "cell_type": "markdown",
   "metadata": {},
   "source": [
    "## S3 resource"
   ]
  },
  {
   "cell_type": "code",
   "execution_count": null,
   "metadata": {},
   "outputs": [],
   "source": [
    "# instantiate S3 resource connector\n",
    "s3 = aws_session.resource('s3')"
   ]
  },
  {
   "cell_type": "code",
   "execution_count": null,
   "metadata": {},
   "outputs": [],
   "source": [
    "# create a bucket via S3 resource\n",
    "s3.create_bucket(Bucket=bucket_name)"
   ]
  },
  {
   "cell_type": "code",
   "execution_count": null,
   "metadata": {},
   "outputs": [],
   "source": [
    "# interact with S3 bucket \n",
    "bucket = s3.Bucket(name=bucket_name)\n",
    "\n",
    "# upload file\n",
    "bucket.upload_file(\n",
    "    Filename=file_path,\n",
    "    Key=file_key\n",
    ")"
   ]
  },
  {
   "cell_type": "code",
   "execution_count": null,
   "metadata": {},
   "outputs": [],
   "source": [
    "# list all objects\n",
    "print(*bucket.objects.all())"
   ]
  },
  {
   "cell_type": "code",
   "execution_count": null,
   "metadata": {},
   "outputs": [],
   "source": [
    "# download file from a bucket\n",
    "bucket.download_file(\n",
    "    Filename=destination_file_path,\n",
    "    Key=file_key\n",
    ")"
   ]
  },
  {
   "cell_type": "code",
   "execution_count": null,
   "metadata": {},
   "outputs": [],
   "source": [
    "# filter bucket objects\n",
    "print(*bucket.objects.filter(Prefix='test'))"
   ]
  },
  {
   "cell_type": "markdown",
   "metadata": {},
   "source": [
    "## deleting S3 buckets"
   ]
  },
  {
   "cell_type": "code",
   "execution_count": null,
   "metadata": {},
   "outputs": [],
   "source": [
    "# get S3 bucket \n",
    "bucket = s3.Bucket(name=bucket_name)\n",
    "\n",
    "# delete all S3 bucket objects -> only an empty bucket can be deleted\n",
    "bucket.objects.all().delete()\n",
    "\n",
    "# delete empty bucket\n",
    "bucket.delete()"
   ]
  },
  {
   "cell_type": "markdown",
   "metadata": {},
   "source": [
    "## paginators"
   ]
  },
  {
   "cell_type": "markdown",
   "metadata": {},
   "source": [
    "- provides a mean to list objects in chunks (pages)"
   ]
  },
  {
   "cell_type": "code",
   "execution_count": null,
   "metadata": {},
   "outputs": [],
   "source": [
    "# get paginator -> S3 client is required!\n",
    "paginator = s3_client.get_paginator('list_objects_v2')\n",
    "results = paginator.paginate(\n",
    "    Bucket=bucket_name\n",
    ")"
   ]
  },
  {
   "cell_type": "code",
   "execution_count": null,
   "metadata": {},
   "outputs": [],
   "source": [
    "# iterate over results\n",
    "for id, item in enumerate(results.search('Contents')):\n",
    "    print(f\"index: {id}\")\n",
    "    print_dict(item)"
   ]
  },
  {
   "cell_type": "markdown",
   "metadata": {},
   "source": [
    "## waiters"
   ]
  },
  {
   "cell_type": "markdown",
   "metadata": {},
   "source": [
    "- regularly checks for a specific condition to be met"
   ]
  },
  {
   "cell_type": "code",
   "execution_count": null,
   "metadata": {},
   "outputs": [],
   "source": [
    "# define waiter parameters\n",
    "waiter = s3_client.get_waiter('bucket_exists')\n",
    "wait_config = {\n",
    "    'Delay': 10,             # check every 10 seconds \n",
    "    'MaxAttempts': 6         # exit after 6 unsuccessful attemps\n",
    "}\n",
    "\n",
    "# testing bucket name\n",
    "test_bucket_name = 'very-weird-bucket-to-check'"
   ]
  },
  {
   "cell_type": "code",
   "execution_count": null,
   "metadata": {},
   "outputs": [],
   "source": [
    "print(f'waiting for a bucket: {test_bucket_name}')\n",
    "waiter.wait(\n",
    "    Bucket=test_bucket_name,\n",
    "    WaiterConfig=wait_config\n",
    "    )"
   ]
  },
  {
   "cell_type": "markdown",
   "metadata": {},
   "source": [
    "## S3 file sharing"
   ]
  },
  {
   "cell_type": "markdown",
   "metadata": {},
   "source": [
    "- using presigned URLs"
   ]
  },
  {
   "cell_type": "code",
   "execution_count": null,
   "metadata": {},
   "outputs": [],
   "source": [
    "url = s3_client.generate_presigned_url(\n",
    "    ClientMethod='get_object',\n",
    "    Params={\n",
    "        'Bucket': bucket_name, \n",
    "        'Key': file_key,\n",
    "        },\n",
    "    ExpiresIn=120                 # expires in 120 seconds\n",
    ")"
   ]
  },
  {
   "cell_type": "markdown",
   "metadata": {},
   "source": [
    "## AWS cost monitoring"
   ]
  },
  {
   "cell_type": "code",
   "execution_count": null,
   "metadata": {},
   "outputs": [],
   "source": [
    "# instantiate S3 client\n",
    "ce_client = aws_session.client('ce')"
   ]
  },
  {
   "cell_type": "code",
   "execution_count": null,
   "metadata": {},
   "outputs": [],
   "source": [
    "# define reporting period\n",
    "start_date = (datetime.now() - timedelta(days=1)).strftime('%Y-%m-%d')\n",
    "end_date = datetime.now().strftime('%Y-%m-%d')\n",
    "print(f'period: {start_date} // {end_date}')\n",
    "\n",
    "# boto3 client format\n",
    "reporting_period = {\n",
    "        'Start': start_date,\n",
    "        'End': end_date\n",
    "    }"
   ]
  },
  {
   "cell_type": "code",
   "execution_count": null,
   "metadata": {},
   "outputs": [],
   "source": [
    "# get cost and usage statistics\n",
    "response = ce_client.get_cost_and_usage(\n",
    "    TimePeriod=reporting_period,\n",
    "    Granularity='MONTHLY',\n",
    "    Metrics=['UnblendedCost', 'UsageQuantity']\n",
    ")\n",
    "\n",
    "# explore costs\n",
    "for item in response['ResultsByTime']:\n",
    "    print(f\"period: {item['Timeperiod']}\")\n",
    "    print(f\"total cost: {item['Total']['UnblendedCost']}\")\n",
    "    print(\"\\n\")"
   ]
  },
  {
   "cell_type": "code",
   "execution_count": null,
   "metadata": {},
   "outputs": [],
   "source": [
    "# get list of used services\n",
    "response = ce_client.get_dimension_values(\n",
    "    TimePeriod=reporting_period,\n",
    "    Dimension='SERVICE'\n",
    ")\n",
    "\n",
    "for service in response['DimensionValues']: \n",
    "    print(service['Value'])"
   ]
  },
  {
   "cell_type": "code",
   "execution_count": null,
   "metadata": {},
   "outputs": [],
   "source": [
    "# get cost and usage statistics\n",
    "response = ce_client.get_cost_and_usage(\n",
    "    TimePeriod=reporting_period,\n",
    "    Granularity='MONTHLY',\n",
    "    Metrics=['UnblendedCost'],\n",
    "    GroupBy=[\n",
    "        {\n",
    "            \"Type\":\"DIMENSION\",\n",
    "            \"Key\":\"SERVICE\"\n",
    "        }\n",
    "    ]\n",
    ")\n",
    "\n",
    "# explore costs\n",
    "for item in response['ResultsByTime']:\n",
    "    print(f\"period: {item['Timeperiod']}\")\n",
    "\n",
    "    for group in item['Groups']:\n",
    "        service_name = group['Keys'][0]\n",
    "        cost = group['Metrics']['UnblendedCost']['Amount']\n",
    "        print(f\"{service_name}: ${cost}\")\n",
    "    print(\"\\n\") "
   ]
  },
  {
   "cell_type": "markdown",
   "metadata": {},
   "source": [
    "## AWS cost forecast"
   ]
  },
  {
   "cell_type": "code",
   "execution_count": null,
   "metadata": {},
   "outputs": [],
   "source": [
    "# define forecast period\n",
    "start_date = (datetime.now() + timedelta(days=1)).strftime('%Y-%m-%d')\n",
    "end_date = (datetime.now() + timedelta(days=31)).strftime('%Y-%m-%d')\n",
    "print(f'period: {start_date} // {end_date}')\n",
    "\n",
    "# boto3 client format\n",
    "forecast_period = {\n",
    "        'Start': start_date,\n",
    "        'End': end_date\n",
    "    }"
   ]
  },
  {
   "cell_type": "code",
   "execution_count": null,
   "metadata": {},
   "outputs": [],
   "source": [
    "# collect forecast\n",
    "result = ce_client.get_cost_forecast(\n",
    "    TimePeriod=forecast_period,\n",
    "    Metric='UNBLENDED_COST',\n",
    "    Granularity='MONTHLY'\n",
    ")"
   ]
  },
  {
   "cell_type": "markdown",
   "metadata": {},
   "source": [
    "## EC2"
   ]
  },
  {
   "cell_type": "markdown",
   "metadata": {},
   "source": [
    "- **IMPORTANT**: to deploy an EC2 instance, server image ID is required \\\n",
    "  -> use AWS console to get the available IDs \\\n",
    "  `AWS console -> EC2 -> Launch an instance`"
   ]
  },
  {
   "cell_type": "code",
   "execution_count": null,
   "metadata": {},
   "outputs": [],
   "source": [
    "ec2 = aws_session.resource('ec2')"
   ]
  },
  {
   "cell_type": "code",
   "execution_count": null,
   "metadata": {},
   "outputs": [],
   "source": [
    "# deploy instance\n",
    "instance = ec2.create_instances(\n",
    "    MinCount=1,\n",
    "    MaxCount=1,\n",
    "    InstanceType=\"t3.micro\",\n",
    "    ImageId=\"ami-0014ce3e52359afbd\"\n",
    ")\n",
    "# list all instances\n",
    "print(*ec2.instances.all())"
   ]
  },
  {
   "cell_type": "code",
   "execution_count": null,
   "metadata": {},
   "outputs": [],
   "source": [
    "instances = [i.id for i in instance]"
   ]
  },
  {
   "cell_type": "code",
   "execution_count": null,
   "metadata": {},
   "outputs": [],
   "source": [
    "# check instance attributes\n",
    "ec2_client = aws_session.client('ec2')\n",
    "ec2_client.describe_instances(\n",
    "    InstanceIds=instances\n",
    "    )"
   ]
  },
  {
   "cell_type": "code",
   "execution_count": null,
   "metadata": {},
   "outputs": [],
   "source": [
    "# stop an instance (not terminating it)\n",
    "ec2_client.stop_instances(\n",
    "    InstanceIds=instances\n",
    ")"
   ]
  },
  {
   "cell_type": "code",
   "execution_count": null,
   "metadata": {},
   "outputs": [],
   "source": [
    "# restart stopped instances\n",
    "ec2_client.start_instances(\n",
    "    InstanceIds=instances\n",
    ")"
   ]
  },
  {
   "cell_type": "code",
   "execution_count": null,
   "metadata": {},
   "outputs": [],
   "source": [
    "# terminate instances\n",
    "ec2_client.terminate_instances(\n",
    "    InstanceIds=instances\n",
    ")"
   ]
  },
  {
   "cell_type": "markdown",
   "metadata": {},
   "source": [
    "### EC2: SSH connection"
   ]
  },
  {
   "cell_type": "markdown",
   "metadata": {},
   "source": [
    "- **paramiko** library is used to establish an SSH connection to EC2 instance"
   ]
  },
  {
   "cell_type": "code",
   "execution_count": null,
   "metadata": {},
   "outputs": [],
   "source": [
    "# esteblish connections\n",
    "ec2_client = aws_session.client('ec2')\n",
    "ec2 = aws_session.resource('ec2')\n",
    "\n",
    "# define key pair identifier and its storage location\n",
    "key_pair_id = 'course_key_pair'\n",
    "key_pair_path = f'./sandbox/{key_pair_id}.pem'"
   ]
  },
  {
   "cell_type": "code",
   "execution_count": null,
   "metadata": {},
   "outputs": [],
   "source": [
    "# create SSH key pair\n",
    "key_pair = ec2_client.create_key_pair(\n",
    "    KeyName=key_pair_id\n",
    ")"
   ]
  },
  {
   "cell_type": "code",
   "execution_count": null,
   "metadata": {},
   "outputs": [],
   "source": [
    "# create a file containing the key pair\n",
    "write_file(\n",
    "    content=key_pair['KeyMaterial'], \n",
    "    file_path=key_pair_path\n",
    "    )"
   ]
  },
  {
   "cell_type": "code",
   "execution_count": null,
   "metadata": {},
   "outputs": [],
   "source": [
    "# list security groups\n",
    "security_groups = ec2_client.describe_security_groups()\n",
    "print_dict(*security_groups['SecurityGroups'])"
   ]
  },
  {
   "cell_type": "code",
   "execution_count": null,
   "metadata": {},
   "outputs": [],
   "source": [
    "# deploy instance with security group and SSH connection\n",
    "instance = ec2.create_instances(\n",
    "    MinCount=1,\n",
    "    MaxCount=1,\n",
    "    InstanceType=\"t3.micro\",\n",
    "    ImageId=\"ami-0014ce3e52359afbd\",\n",
    "    KeyName=key_pair_id,\n",
    "    SecurityGroupIds=['sg-07662f87cb90b2d23']\n",
    ")"
   ]
  },
  {
   "cell_type": "code",
   "execution_count": null,
   "metadata": {},
   "outputs": [],
   "source": [
    "# get instance IDs\n",
    "instances = [i.id for i in instance]\n",
    "instances"
   ]
  },
  {
   "cell_type": "code",
   "execution_count": null,
   "metadata": {},
   "outputs": [],
   "source": [
    "# get instance descriptions\n",
    "instance_descriptions = ec2_client.describe_instances(\n",
    "    InstanceIds=instances\n",
    ")\n",
    "instance_descriptions"
   ]
  },
  {
   "cell_type": "code",
   "execution_count": null,
   "metadata": {},
   "outputs": [],
   "source": [
    "# extract IP addresses\n",
    "ip_mapping = {}\n",
    "for inst in instance_descriptions['Reservations'][0]['Instances']:\n",
    "    ip_mapping[inst['InstanceId']] = inst['PrivateIpAddress']\n",
    "\n",
    "ip_mapping"
   ]
  },
  {
   "cell_type": "code",
   "execution_count": null,
   "metadata": {},
   "outputs": [],
   "source": [
    "# !pip install paramiko\n",
    "import paramiko"
   ]
  },
  {
   "cell_type": "code",
   "execution_count": null,
   "metadata": {},
   "outputs": [],
   "source": [
    "# establish ssh client\n",
    "ssh = paramiko.SSHClient()\n",
    "ssh.set_missing_host_key_policy(paramiko.AutoAddPolicy())\n",
    "ssh_key = paramiko.RSAKey.from_private_key_file(\n",
    "    filename= key_pair_path\n",
    "    )"
   ]
  },
  {
   "cell_type": "code",
   "execution_count": null,
   "metadata": {},
   "outputs": [],
   "source": [
    "ssh_key"
   ]
  },
  {
   "cell_type": "code",
   "execution_count": null,
   "metadata": {},
   "outputs": [],
   "source": [
    "# get IP address of the first instance\n",
    "ip = ip_mapping.get(instances[0])\n",
    "ip"
   ]
  },
  {
   "cell_type": "code",
   "execution_count": null,
   "metadata": {},
   "outputs": [],
   "source": [
    "# connect to EC2 instance\n",
    "ssh.connect(\n",
    "    hostname=ip,\n",
    "    username='ubuntu',\n",
    "    pkey=ssh_key\n",
    "    )"
   ]
  },
  {
   "cell_type": "code",
   "execution_count": null,
   "metadata": {},
   "outputs": [],
   "source": [
    "# execute shell command and read output\n",
    "stdin, stdout, stderr = ssh.exec_command('ls')\n",
    "stdout.read()"
   ]
  },
  {
   "cell_type": "code",
   "execution_count": null,
   "metadata": {},
   "outputs": [],
   "source": [
    "# terminate instances\n",
    "ec2_client.terminate_instances(\n",
    "    InstanceIds=instances\n",
    ")"
   ]
  },
  {
   "cell_type": "markdown",
   "metadata": {},
   "source": [
    "## DynamoDB"
   ]
  },
  {
   "cell_type": "code",
   "execution_count": null,
   "metadata": {},
   "outputs": [],
   "source": [
    "ddb_client = aws_session.client('dynamodb')"
   ]
  },
  {
   "cell_type": "code",
   "execution_count": null,
   "metadata": {},
   "outputs": [],
   "source": [
    "# table definition\n",
    "table_name = 'movies'\n",
    "\n",
    "# define table structure\n",
    "attributes = [\n",
    "    {\n",
    "        'AttributeName': 'title',\n",
    "        'AttributeType': 'S'\n",
    "    },\n",
    "    {\n",
    "        'AttributeName': 'rating',\n",
    "        'AttributeType': 'N'\n",
    "    }    \n",
    "]\n",
    "\n",
    "# define table schema\n",
    "key_schema = [\n",
    "    {\n",
    "        'AttributeName': 'title',\n",
    "        'KeyType': 'HASH'    \n",
    "    },\n",
    "    {\n",
    "        'AttributeName': 'rating',\n",
    "        'KeyType': 'RANGE'\n",
    "    }    \n",
    "]\n",
    "\n",
    "# define throughput\n",
    "provisioned_throughput = {\n",
    "    \"ReadCapacityUnits\": 5,\n",
    "    \"WriteCapacityUnits\": 5\n",
    "}"
   ]
  },
  {
   "cell_type": "code",
   "execution_count": null,
   "metadata": {},
   "outputs": [],
   "source": [
    "# create table request\n",
    "response = ddb_client.create_table(\n",
    "    TableName = table_name,\n",
    "    AttributeDefinitions = attributes,\n",
    "    KeySchema = key_schema,\n",
    "    ProvisionedThroughput = provisioned_throughput\n",
    ")\n",
    "\n",
    "print_dict(response)"
   ]
  },
  {
   "cell_type": "code",
   "execution_count": null,
   "metadata": {},
   "outputs": [],
   "source": [
    "# insert an item\n",
    "entry = {\n",
    "    \"title\": {'S': \"The Matrix\"},\n",
    "    \"director\": {'S': \"Lana Wachowski\"},\n",
    "    \"year\": {'N': \"1999\"},\n",
    "    \"rating\": {'S': \"5\"}\n",
    "}\n",
    "\n",
    "ddb_client.put_item(\n",
    "    TableName = table_name,\n",
    "    Item = entry\n",
    "    )"
   ]
  },
  {
   "cell_type": "code",
   "execution_count": null,
   "metadata": {},
   "outputs": [],
   "source": [
    "# fetch data point\n",
    "item_key = {\n",
    "    'title': {'S': \"The Matrix\"},\n",
    "    'rating': {'S': \"5\"}\n",
    "    }\n",
    "\n",
    "response = ddb_client.get_item(\n",
    "    TableName=table_name, \n",
    "    Key=item_key\n",
    "    )\n",
    "\n",
    "print_dict(response['Item'])"
   ]
  },
  {
   "cell_type": "code",
   "execution_count": null,
   "metadata": {},
   "outputs": [],
   "source": [
    "# update data point\n",
    "update = 'SET director = :r'\n",
    "\n",
    "ddb_client.update_item(\n",
    "    TableName=table_name,\n",
    "    Key=item_key,\n",
    "    UpdateExpression=update,\n",
    "    ExpressionAttributeValues={':r': {'S':'Lana and Lilly Wachowski'}}\n",
    ")"
   ]
  },
  {
   "cell_type": "code",
   "execution_count": null,
   "metadata": {},
   "outputs": [],
   "source": [
    "# delete a datapoint \n",
    "ddb_client.delete_item(\n",
    "    TableName=table_name,\n",
    "    Key=item_key\n",
    ")"
   ]
  },
  {
   "cell_type": "markdown",
   "metadata": {},
   "source": [
    "### dynamoDB: batch operations"
   ]
  },
  {
   "cell_type": "code",
   "execution_count": null,
   "metadata": {},
   "outputs": [],
   "source": [
    "# define items\n",
    "movies = [\n",
    "    {\n",
    "        \"title\": \"The Matrix\",\n",
    "        \"director\": \"Lana Wachowski\",\n",
    "        \"year\": \"1999\",\n",
    "        \"rating\": \"4.7\"\n",
    "    },\n",
    "    {\n",
    "        \"title\": \"The Matrix 2\",\n",
    "        \"director\": \"Lana Wachowski\",\n",
    "        \"year\": \"2003\",\n",
    "        \"rating\": \"4.6\"\n",
    "    },\n",
    "    {\n",
    "        \"title\": \"The Matrix 3\",\n",
    "        \"director\": \"Lana Wachowski\",\n",
    "        \"year\": \"2003\",\n",
    "        \"rating\": \"4.5\"\n",
    "    },\n",
    "    {\n",
    "        \"title\": \"Inception\",\n",
    "        \"director\": \"Christopher Nolan\",\n",
    "        \"year\": \"2010\",\n",
    "        \"rating\": \"4.6\"\n",
    "    },\n",
    "    {\n",
    "        \"title\": \"Saving Private Ryan\",\n",
    "        \"director\": \"Steven Spielberg\",\n",
    "        \"year\": \"1999\",\n",
    "        \"rating\": \"4.7\"\n",
    "    },\n",
    "]"
   ]
  },
  {
   "cell_type": "code",
   "execution_count": null,
   "metadata": {},
   "outputs": [],
   "source": [
    "# format insert request\n",
    "batch_insert_request = []\n",
    "for movie in movies:\n",
    "    batch_insert_request.append({\n",
    "        'PutRequest': {\n",
    "            'Item': {\n",
    "                'title': {'S': movie['title']},\n",
    "                'rating': {'S': str(movie['rating'])},\n",
    "                'director': {'S': movie['director']},\n",
    "                'year': {'N': str(movie['year'])}\n",
    "            }\n",
    "        }\n",
    "    }\n",
    ")"
   ]
  },
  {
   "cell_type": "code",
   "execution_count": null,
   "metadata": {},
   "outputs": [],
   "source": [
    "# submit batch request\n",
    "response = ddb_client.batch_write_item(\n",
    "    RequestItems={\n",
    "        'movies': batch_insert_request\n",
    "    }\n",
    ")\n",
    "\n",
    "print_dict(response)"
   ]
  },
  {
   "cell_type": "code",
   "execution_count": null,
   "metadata": {},
   "outputs": [],
   "source": [
    "# format get request\n",
    "batch_get_request = {\"Keys\": []}\n",
    "for movie in movies:\n",
    "    batch_get_request['Keys'].append({\n",
    "        'title': {'S': movie[\"title\"]},\n",
    "        'rating': {'S': str(movie[\"rating\"])}\n",
    "    }\n",
    ") "
   ]
  },
  {
   "cell_type": "code",
   "execution_count": null,
   "metadata": {},
   "outputs": [],
   "source": [
    "# get response\n",
    "response = ddb_client.batch_get_item(\n",
    "    RequestItems={table_name: batch_get_request}\n",
    ")\n",
    "print_dict(response['Responses'])"
   ]
  },
  {
   "cell_type": "markdown",
   "metadata": {},
   "source": [
    "### dynamoDB: scanning and querying"
   ]
  },
  {
   "cell_type": "markdown",
   "metadata": {},
   "source": [
    "- **SCAN** - allows complex queries over all attributes\n",
    "- **QUERY** - uses INDEX or GLOBAL SECONDARY INDEX"
   ]
  },
  {
   "cell_type": "code",
   "execution_count": null,
   "metadata": {},
   "outputs": [],
   "source": [
    "# paginated scan through a table -> DO NOT USE FOR LARGE TABLES!!!\n",
    "items = []\n",
    "response = ddb_client.scan(TableName=table_name)\n",
    "items.extend(response[\"Items\"])\n",
    "\n",
    "## grab a next batch of results\n",
    "while \"LastEvaluatedKey\" in response.keys():\n",
    "    response = ddb_client.scan(\n",
    "        TableName=table_name, \n",
    "        ExclusiveStartKey=response[\"LastEvaluatedKey\"]\n",
    "        )\n",
    "    items.extend(response[\"Items\"])\n"
   ]
  },
  {
   "cell_type": "code",
   "execution_count": null,
   "metadata": {},
   "outputs": [],
   "source": [
    "# filtered scan\n",
    "ddb_client.scan(\n",
    "    TableName=table_name,\n",
    "    FilterExpression='rating = :num',\n",
    "    ExpressionAttributeValues={\n",
    "        ':num': {'S': '4.6'}\n",
    "    }\n",
    ")\n",
    "print_dict(response['Items'])"
   ]
  },
  {
   "cell_type": "code",
   "execution_count": null,
   "metadata": {},
   "outputs": [],
   "source": [
    "# interacting with tables via resource calls\n",
    "dynamodb = aws_session.resource('dynamodb')\n",
    "table = dynamodb.Table(table_name)"
   ]
  },
  {
   "cell_type": "code",
   "execution_count": null,
   "metadata": {},
   "outputs": [],
   "source": [
    "# required for scanning and conditioning\n",
    "from boto3.dynamodb.conditions import Key, Attr\n",
    "\n",
    "# list available operations\n",
    "dir(Attr)"
   ]
  },
  {
   "cell_type": "code",
   "execution_count": null,
   "metadata": {},
   "outputs": [],
   "source": [
    "# scan table\n",
    "response = table.scan(\n",
    "    FilterExpression=Attr(\"rating\").eq('4.7')\n",
    "    )\n",
    "print_dict(response['Items'])"
   ]
  },
  {
   "cell_type": "markdown",
   "metadata": {},
   "source": [
    "### dynamoDB: inspecitng a table"
   ]
  },
  {
   "cell_type": "code",
   "execution_count": null,
   "metadata": {},
   "outputs": [],
   "source": [
    "table.key_schema"
   ]
  },
  {
   "cell_type": "code",
   "execution_count": null,
   "metadata": {},
   "outputs": [],
   "source": [
    "ddb_client.describe_table(TableName=table_name)"
   ]
  },
  {
   "cell_type": "markdown",
   "metadata": {},
   "source": [
    "### dynamoDB: global secondary index"
   ]
  },
  {
   "cell_type": "markdown",
   "metadata": {},
   "source": [
    "- defines additional indexes besides the table's primary index\n",
    "- used to improve querying efficiency"
   ]
  },
  {
   "cell_type": "code",
   "execution_count": null,
   "metadata": {},
   "outputs": [],
   "source": [
    "# add new attribute \n",
    "attributes.append(\n",
    "    {\n",
    "        \"AttributeName\": \"director\", \"AttributeType\" : \"S\"\n",
    "    }\n",
    ")"
   ]
  },
  {
   "cell_type": "code",
   "execution_count": null,
   "metadata": {},
   "outputs": [],
   "source": [
    "# define global secondary key schema and throughput\n",
    "gsi_key_schema = [\n",
    "    {'AttributeName': 'director', 'KeyType': 'HASH'}\n",
    "]\n",
    "\n",
    "gsi_provisioned_throughput = {\n",
    "    'ReadCapacityUnits': 5,\n",
    "    'WriteCapacityUnits': 5\n",
    "}\n",
    "\n",
    "response = ddb_client.update_table(\n",
    "    TableName=table_name,\n",
    "    AttributeDefinitions=attributes,\n",
    "    GlobalSecondaryIndexUpdates=[\n",
    "        {\n",
    "            'Create': {  # Create secondary Index\n",
    "                'IndexName': \"gsi1\",  # The name of the global secondary index. Must be unique only for this table.\n",
    "                'KeySchema': gsi_key_schema,\n",
    "                'Projection': {\n",
    "                    'ProjectionType': 'ALL'  # Project all information\n",
    "                },\n",
    "                'ProvisionedThroughput': gsi_provisioned_throughput\n",
    "            }\n",
    "        }\n",
    "    ]\n",
    ")\n",
    "\n",
    "print_dict(response)"
   ]
  },
  {
   "cell_type": "code",
   "execution_count": null,
   "metadata": {},
   "outputs": [],
   "source": [
    "ddb_client.query(\n",
    "    TableName=table_name,\n",
    "    KeyConditionExpression='director = :d',\n",
    "    IndexName='gsi1',\n",
    "    ExpressionAttributeValues={':d': {'S': \"Lana Wachowski\"}}\n",
    ")"
   ]
  },
  {
   "cell_type": "markdown",
   "metadata": {},
   "source": [
    "### dynamoDB: delete table"
   ]
  },
  {
   "cell_type": "code",
   "execution_count": null,
   "metadata": {},
   "outputs": [],
   "source": [
    "dynamodb = aws_session.resource('dynamodb')\n",
    "table_name = 'movies'\n",
    "\n",
    "table = dynamodb.Table(table_name)\n",
    "table.delete()"
   ]
  },
  {
   "cell_type": "markdown",
   "metadata": {},
   "source": [
    "### dynamoDB: upload example"
   ]
  },
  {
   "cell_type": "code",
   "execution_count": null,
   "metadata": {},
   "outputs": [],
   "source": [
    "# list of dictionaries\n",
    "data_list = [\n",
    "    {\"id\": \"1226\", \"name\": \"a\"},\n",
    "    {\"id\": \"8574\", \"name\": \"b\"},\n",
    "    {\"id\": \"9530\", \"name\": \"c\"},\n",
    "    {\"id\": \"8921\", \"name\": \"d\"},\n",
    "    {\"id\": \"1059\", \"name\": \"e\"},\n",
    "]\n",
    "\n",
    "# mockup table\n",
    "table_name = 'test_upload'"
   ]
  },
  {
   "cell_type": "code",
   "execution_count": null,
   "metadata": {},
   "outputs": [],
   "source": [
    "items_to_upload = []\n",
    "\n",
    "for item in data_list:\n",
    "    put_request = {\"PutRequest\": {\"Item\": {}}}\n",
    "\n",
    "    for key, value in item.items():\n",
    "        \n",
    "        # assign default empty value (dynamoDB cannot handle empty values)\n",
    "        if not value:  \n",
    "            value = \"None\"\n",
    "\n",
    "        # derive attribute type\n",
    "        try:\n",
    "            float(value)\n",
    "            attribute_type = 'N'\n",
    "        except ValueError:\n",
    "            attribute_type = 'S'\n",
    "\n",
    "        put_request[\"PutRequest\"][\"Item\"][key] = {attribute_type: value}\n",
    "        \n",
    "    items_to_upload.append(put_request)\n",
    "\n",
    "    # upload the batch when it consists of 25 elements\n",
    "    if len(items_to_upload) == 25:  \n",
    "        response = ddb_client.batch_write_item(RequestItems={table_name: items_to_upload})\n",
    "        items_to_upload = []\n"
   ]
  }
 ],
 "metadata": {
  "kernelspec": {
   "display_name": "dept",
   "language": "python",
   "name": "python3"
  },
  "language_info": {
   "codemirror_mode": {
    "name": "ipython",
    "version": 3
   },
   "file_extension": ".py",
   "mimetype": "text/x-python",
   "name": "python",
   "nbconvert_exporter": "python",
   "pygments_lexer": "ipython3",
   "version": "3.10.13"
  }
 },
 "nbformat": 4,
 "nbformat_minor": 2
}
